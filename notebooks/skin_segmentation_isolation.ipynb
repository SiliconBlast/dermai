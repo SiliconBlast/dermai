{
 "cells": [
  {
   "cell_type": "markdown",
   "metadata": {},
   "source": [
    "# Image Segmentation and Isolation of Skin"
   ]
  },
  {
   "cell_type": "markdown",
   "metadata": {},
   "source": [
    "The goal of this code block is to identify the pixels that constitute skin patches in an image via an image segmentation algorithm. Following the skin-pixel segmentation, the next is to isolate the identified skin patch by turning the other non-segmented pixels to white. By doing so, we have an image with just the skin patch without any background colour.\n",
    "\n",
    "This exercise is to facilitate the identification of skin lesions from skin images. By isolating the skin, the image classification algorithm can focus on identifying lesions that may or may not be present in a given skin patch without getting distracted with noisy pixels from the background."
   ]
  },
  {
   "cell_type": "code",
   "execution_count": null,
   "metadata": {},
   "outputs": [],
   "source": []
  }
 ],
 "metadata": {
  "kernelspec": {
   "display_name": "Python 3",
   "language": "python",
   "name": "python3"
  },
  "language_info": {
   "codemirror_mode": {
    "name": "ipython",
    "version": 3
   },
   "file_extension": ".py",
   "mimetype": "text/x-python",
   "name": "python",
   "nbconvert_exporter": "python",
   "pygments_lexer": "ipython3",
   "version": "3.5.6"
  }
 },
 "nbformat": 4,
 "nbformat_minor": 4
}
