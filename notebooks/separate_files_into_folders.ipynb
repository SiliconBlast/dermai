{
 "cells": [
  {
   "cell_type": "markdown",
   "metadata": {},
   "source": [
    "# Split content from single folder into multiple sub-folders"
   ]
  },
  {
   "cell_type": "code",
   "execution_count": 7,
   "metadata": {},
   "outputs": [],
   "source": [
    "# imports\n",
    "import argparse\n",
    "import os\n",
    "import shutil"
   ]
  },
  {
   "cell_type": "code",
   "execution_count": 2,
   "metadata": {},
   "outputs": [],
   "source": [
    "# parameters\n",
    "raw_path = \"data/raw/granuloma-annulare\"\n",
    "train_percentage = 0.60"
   ]
  },
  {
   "cell_type": "code",
   "execution_count": 32,
   "metadata": {},
   "outputs": [],
   "source": [
    "raw_path = \"data/raw/ekaba\""
   ]
  },
  {
   "cell_type": "code",
   "execution_count": 9,
   "metadata": {},
   "outputs": [],
   "source": [
    "directory = [f for f in os.listdir(raw_path) if os.path.isdir(os.path.join(raw_path, f))]"
   ]
  },
  {
   "cell_type": "code",
   "execution_count": 10,
   "metadata": {},
   "outputs": [
    {
     "data": {
      "text/plain": [
       "['pityriasis-versicolor',\n",
       " 'kaposi-sarcoma-patch-plaque-nodule',\n",
       " 'scabies',\n",
       " 'atopic-dermatitis-eczema',\n",
       " 'pityriasis-rosea',\n",
       " 'lichen-planus',\n",
       " 'mycosis-fungoides-mf-plaque',\n",
       " 'psoriasis',\n",
       " 'vitiligo',\n",
       " 'mycosis-fungoides-mf-patch',\n",
       " 'seborrhoeic-dermatitis-eczema',\n",
       " 'mycosis-fungoides-mf-nodular',\n",
       " 'granuloma-annulare']"
      ]
     },
     "execution_count": 10,
     "metadata": {},
     "output_type": "execute_result"
    }
   ],
   "source": [
    "directory"
   ]
  },
  {
   "cell_type": "code",
   "execution_count": 38,
   "metadata": {},
   "outputs": [
    {
     "name": "stdout",
     "output_type": "stream",
     "text": [
      "Directory not found\n"
     ]
    }
   ],
   "source": [
    "try:\n",
    "    [f for f in os.listdir(raw_path)]\n",
    "#     print(os.path.isdir(raw_path))\n",
    "except IOError as e:\n",
    "    print('Directory not found')"
   ]
  },
  {
   "cell_type": "code",
   "execution_count": 5,
   "metadata": {},
   "outputs": [],
   "source": [
    "# list of train images\n",
    "train_images = images[:int(len(images)*train_percentage)]"
   ]
  },
  {
   "cell_type": "code",
   "execution_count": 14,
   "metadata": {},
   "outputs": [],
   "source": [
    "# list of test images\n",
    "test_images = images[int(len(images)*train_percentage):]"
   ]
  },
  {
   "cell_type": "code",
   "execution_count": 15,
   "metadata": {},
   "outputs": [
    {
     "name": "stdout",
     "output_type": "stream",
     "text": [
      "train images: 160\n",
      "test images: 108\n"
     ]
    }
   ],
   "source": [
    "# check lengths of train and test images\n",
    "print('train images:', len(train_images))\n",
    "print('test images:', len(test_images))"
   ]
  },
  {
   "cell_type": "code",
   "execution_count": 16,
   "metadata": {},
   "outputs": [],
   "source": [
    "# assign images to appropriate directories\n",
    "image_dict = {'train': train_images,\n",
    "               'test': test_images}"
   ]
  },
  {
   "cell_type": "code",
   "execution_count": 17,
   "metadata": {},
   "outputs": [],
   "source": [
    "for f_name, f_list in image_dict.items():\n",
    "    folder_name = f_name\n",
    "        \n",
    "    for image in f_list:\n",
    "        new_path = os.path.join(raw_path.split('/')[0], folder_name, raw_path.split('/')[2])\n",
    "        if not os.path.exists(new_path):\n",
    "            os.makedirs(new_path)\n",
    "\n",
    "        old_image_path = os.path.join(raw_path, image)\n",
    "        new_image_path = os.path.join(new_path, image)\n",
    "        shutil.copy(old_image_path, new_image_path)"
   ]
  },
  {
   "cell_type": "markdown",
   "metadata": {},
   "source": [
    "# End"
   ]
  },
  {
   "cell_type": "code",
   "execution_count": null,
   "metadata": {},
   "outputs": [],
   "source": []
  }
 ],
 "metadata": {
  "kernelspec": {
   "display_name": "Python 3",
   "language": "python",
   "name": "python3"
  },
  "language_info": {
   "codemirror_mode": {
    "name": "ipython",
    "version": 3
   },
   "file_extension": ".py",
   "mimetype": "text/x-python",
   "name": "python",
   "nbconvert_exporter": "python",
   "pygments_lexer": "ipython3",
   "version": "3.8.3"
  }
 },
 "nbformat": 4,
 "nbformat_minor": 4
}
